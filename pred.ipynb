{
 "metadata": {
  "language_info": {
   "codemirror_mode": {
    "name": "ipython",
    "version": 3
   },
   "file_extension": ".py",
   "mimetype": "text/x-python",
   "name": "python",
   "nbconvert_exporter": "python",
   "pygments_lexer": "ipython3",
   "version": 3
  },
  "orig_nbformat": 2,
  "kernelspec": {
   "name": "python_defaultSpec_1596051034961",
   "display_name": "Python 3.8.2 64-bit ('exploreEnv': venv)"
  }
 },
 "nbformat": 4,
 "nbformat_minor": 2,
 "cells": [
  {
   "cell_type": "code",
   "execution_count": 1,
   "metadata": {},
   "outputs": [],
   "source": [
    "import numpy as np \n",
    "import pandas as pd \n",
    "import pickle\n",
    "\n",
    "from FDSSC import models, utils\n",
    "from FDSSC import extraction as ext\n",
    "from datasets.datasets import LocationChecker, FDSSCDataset, RandomRotation \n",
    "from matplotlib import pyplot as plt\n",
    "import torch\n",
    "from torch.utils.data import DataLoader"
   ]
  },
  {
   "cell_type": "code",
   "execution_count": 2,
   "metadata": {},
   "outputs": [
    {
     "output_type": "execute_result",
     "data": {
      "text/plain": "FerDSSC_model(\n  (input_spec_conv): Conv3d(1, 16, kernel_size=(1, 1, 7), stride=(1, 1, 1), padding=(0, 0, 3))\n  (spectral_conv1): Spectral_conv(\n    (bn_prelu): Bn_prelu(\n      (bn): BatchNorm3d(16, eps=1e-05, momentum=0.1, affine=True, track_running_stats=True)\n      (prelu): PReLU(num_parameters=1)\n    )\n    (conv3d): Conv3d(16, 8, kernel_size=(1, 1, 7), stride=(1, 1, 1), padding=(0, 0, 3))\n  )\n  (spectral_conv2): Spectral_conv(\n    (bn_prelu): Bn_prelu(\n      (bn): BatchNorm3d(24, eps=1e-05, momentum=0.1, affine=True, track_running_stats=True)\n      (prelu): PReLU(num_parameters=1)\n    )\n    (conv3d): Conv3d(24, 8, kernel_size=(1, 1, 7), stride=(1, 1, 1), padding=(0, 0, 3))\n  )\n  (spectral_conv3): Spectral_conv(\n    (bn_prelu): Bn_prelu(\n      (bn): BatchNorm3d(32, eps=1e-05, momentum=0.1, affine=True, track_running_stats=True)\n      (prelu): PReLU(num_parameters=1)\n    )\n    (conv3d): Conv3d(32, 8, kernel_size=(1, 1, 7), stride=(1, 1, 1), padding=(0, 0, 3))\n  )\n  (bn_prelu1): Bn_prelu(\n    (bn): BatchNorm3d(40, eps=1e-05, momentum=0.1, affine=True, track_running_stats=True)\n    (prelu): PReLU(num_parameters=1)\n  )\n  (reshape_conv): Conv3d(40, 30, kernel_size=(1, 1, 11), stride=(1, 1, 1))\n  (bn_prelu2): Bn_prelu(\n    (bn): BatchNorm3d(30, eps=1e-05, momentum=0.1, affine=True, track_running_stats=True)\n    (prelu): PReLU(num_parameters=1)\n  )\n  (input_spat_conv): Conv3d(1, 16, kernel_size=(3, 3, 30), stride=(1, 1, 1))\n  (spatial_conv1): Spatial_conv(\n    (bn_prelu): Bn_prelu(\n      (bn): BatchNorm3d(16, eps=1e-05, momentum=0.1, affine=True, track_running_stats=True)\n      (prelu): PReLU(num_parameters=1)\n    )\n    (conv3d): Conv3d(16, 8, kernel_size=(3, 3, 1), stride=(1, 1, 1), padding=(1, 1, 0))\n  )\n  (spatial_conv2): Spatial_conv(\n    (bn_prelu): Bn_prelu(\n      (bn): BatchNorm3d(24, eps=1e-05, momentum=0.1, affine=True, track_running_stats=True)\n      (prelu): PReLU(num_parameters=1)\n    )\n    (conv3d): Conv3d(24, 8, kernel_size=(3, 3, 1), stride=(1, 1, 1), padding=(1, 1, 0))\n  )\n  (spatial_conv3): Spatial_conv(\n    (bn_prelu): Bn_prelu(\n      (bn): BatchNorm3d(32, eps=1e-05, momentum=0.1, affine=True, track_running_stats=True)\n      (prelu): PReLU(num_parameters=1)\n    )\n    (conv3d): Conv3d(32, 8, kernel_size=(3, 3, 1), stride=(1, 1, 1), padding=(1, 1, 0))\n  )\n  (bn_prelu3): Bn_prelu(\n    (bn): BatchNorm3d(40, eps=1e-05, momentum=0.1, affine=True, track_running_stats=True)\n    (prelu): PReLU(num_parameters=1)\n  )\n  (pool1): AvgPool3d(kernel_size=(7, 7, 1), stride=(1, 1, 1), padding=0)\n  (drop1): Dropout(p=0.5, inplace=False)\n  (fc1): Linear(in_features=40, out_features=9, bias=True)\n  (softm): Softmax(dim=None)\n)"
     },
     "metadata": {},
     "execution_count": 2
    }
   ],
   "source": [
    "# prediction\n",
    "datadir = \"data/stacked_images\"\n",
    "labeldir = \"siteData/mixedData/\"\n",
    "normdir = \"siteData/allData/\"\n",
    "cachedir = \"data/cached_images\"\n",
    "tempData = FDSSCDataset(datadir, cachedir, normdir+\"train.csv\", size=(9, 9))\n",
    "lbound = -1\n",
    "ubound = 1\n",
    "min_val, max_val = tempData.getMinMax()\n",
    "\n",
    "id2idx = pickle.load(open(\"data/id2idxMasked.p\", \"rb\"))\n",
    "idx2id = {value: key for key, value in id2idx.items()}\n",
    "model = models.FerDSSC_model((1, 9, 9, 11), len(list(id2idx.keys())), growth_r=8, hidden_states=30)\n",
    "\n",
    "checkp = torch.load(\"TrainingCheckpoints/30h_8g_normed_2/80epoch_1.8175283244034506loss.pt\")\n",
    "\n",
    "model.load_state_dict(checkp[\"model_state_dict\"])\n",
    "\n",
    "device = torch.device(\"cuda:0\" if torch.cuda.is_available() else \"cpu\")\n",
    "\n",
    "model.to(device)"
   ]
  },
  {
   "cell_type": "code",
   "execution_count": 3,
   "metadata": {},
   "outputs": [],
   "source": [
    "predData = ext.PredictorDataset(\"data/stacked_images/LC08_L1TP_098082_20200125_20200128_01_T1.TIF\", \"data/extraction_cache\", size=(9, 9), stride=(30, 30))\n",
    "predData.normalize(lbound, ubound, min_val, max_val)\n",
    "predDataloader = DataLoader(predData, batch_size=128, num_workers=4)"
   ]
  },
  {
   "cell_type": "code",
   "execution_count": 4,
   "metadata": {
    "tags": []
   },
   "outputs": [
    {
     "output_type": "stream",
     "name": "stdout",
     "text": "Predicting :OOO ...\n"
    },
    {
     "output_type": "error",
     "ename": "NameError",
     "evalue": "name 'sys' is not defined",
     "traceback": [
      "\u001b[1;31m---------------------------------------------------------------------------\u001b[0m",
      "\u001b[1;31mNameError\u001b[0m                                 Traceback (most recent call last)",
      "\u001b[1;32m<ipython-input-4-45884865a9d8>\u001b[0m in \u001b[0;36m<module>\u001b[1;34m\u001b[0m\n\u001b[1;32m----> 1\u001b[1;33m \u001b[0moutput\u001b[0m \u001b[1;33m=\u001b[0m \u001b[0mext\u001b[0m\u001b[1;33m.\u001b[0m\u001b[0mpredict\u001b[0m\u001b[1;33m(\u001b[0m\u001b[0mmodel\u001b[0m\u001b[1;33m,\u001b[0m \u001b[0mpredDataloader\u001b[0m\u001b[1;33m)\u001b[0m\u001b[1;33m\u001b[0m\u001b[1;33m\u001b[0m\u001b[0m\n\u001b[0m",
      "\u001b[1;32mc:\\Users\\DS\\Desktop\\SA-Gawler\\FDSSC\\extraction.py\u001b[0m in \u001b[0;36mpredict\u001b[1;34m(model, dataloader, device)\u001b[0m\n\u001b[0;32m     98\u001b[0m \u001b[1;33m\u001b[0m\u001b[0m\n\u001b[0;32m     99\u001b[0m                 \u001b[1;31m# Report progress.\u001b[0m\u001b[1;33m\u001b[0m\u001b[1;33m\u001b[0m\u001b[1;33m\u001b[0m\u001b[0m\n\u001b[1;32m--> 100\u001b[1;33m                 \u001b[0msys\u001b[0m\u001b[1;33m.\u001b[0m\u001b[0mstdout\u001b[0m\u001b[1;33m.\u001b[0m\u001b[0mwrite\u001b[0m\u001b[1;33m(\u001b[0m\u001b[1;34m\"\\r\"\u001b[0m \u001b[1;33m+\u001b[0m \u001b[1;34m'  Batch {:>5,}  of  {:>5,}.    Elapsed: {:}.'\u001b[0m\u001b[1;33m.\u001b[0m\u001b[0mformat\u001b[0m\u001b[1;33m(\u001b[0m\u001b[0mi\u001b[0m\u001b[1;33m,\u001b[0m \u001b[0mlen\u001b[0m\u001b[1;33m(\u001b[0m\u001b[0mdataloader\u001b[0m\u001b[1;33m)\u001b[0m\u001b[1;33m,\u001b[0m \u001b[0melapsed\u001b[0m\u001b[1;33m)\u001b[0m\u001b[1;33m)\u001b[0m\u001b[1;33m\u001b[0m\u001b[1;33m\u001b[0m\u001b[0m\n\u001b[0m\u001b[0;32m    101\u001b[0m \u001b[1;33m\u001b[0m\u001b[0m\n\u001b[0;32m    102\u001b[0m     \u001b[1;32mreturn\u001b[0m \u001b[0moutputs\u001b[0m\u001b[1;33m\u001b[0m\u001b[1;33m\u001b[0m\u001b[0m\n",
      "\u001b[1;31mNameError\u001b[0m: name 'sys' is not defined"
     ]
    }
   ],
   "source": [
    "output = ext.predict(model, predDataloader)"
   ]
  }
 ]
}