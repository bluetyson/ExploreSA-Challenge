{
 "cells": [
  {
   "cell_type": "code",
   "execution_count": 1,
   "metadata": {},
   "outputs": [],
   "source": [
    "import numpy as np \n",
    "import pandas as pd \n",
    "import rasterio\n",
    "import rasterio.features\n",
    "import rasterio.warp\n",
    "import folium\n",
    "from pyproj import transform, Proj, CRS\n",
    "\n",
    "from FDSSC import models, utils\n",
    "from datasets.datasets import LocationChecker, FDSSCDataset\n",
    "from matplotlib import pyplot as plt\n",
    "import torch\n",
    "from torch.utils.data import DataLoader"
   ]
  },
  {
   "cell_type": "code",
   "execution_count": 2,
   "metadata": {
    "tags": []
   },
   "outputs": [],
   "source": [
    "datadir = \"data/stacked_images\"\n",
    "checker = LocationChecker(datadir, size=(9, 9), rigorous=False)\n",
    "landsat8Data = FDSSCDataset(datadir,\"miningSites/checked_labels.csv\", lochecker=checker)\n",
    "dataloader = DataLoader(landsat8Data, batch_size=16, shuffle=False, num_workers=1)"
   ]
  },
  {
   "cell_type": "code",
   "execution_count": 3,
   "metadata": {
    "tags": []
   },
   "outputs": [
    {
     "output_type": "stream",
     "name": "stdout",
     "text": "tensor([57, 68, 11, 68, 71, 71, 66, 56, 71, 43, 68, 56, 82, 31, 68, 68])\ntorch.Size([16, 1, 9, 9, 11])\n"
    }
   ],
   "source": [
    "for i, data in enumerate(dataloader):\n",
    "    if i==1:\n",
    "        break\n",
    "    print(data[\"label\"])\n",
    "    print(data[\"image\"].shape)"
   ]
  }
 ],
 "metadata": {
  "language_info": {
   "codemirror_mode": {
    "name": "ipython",
    "version": 3
   },
   "file_extension": ".py",
   "mimetype": "text/x-python",
   "name": "python",
   "nbconvert_exporter": "python",
   "pygments_lexer": "ipython3",
   "version": "3.8.2-final"
  },
  "orig_nbformat": 2,
  "kernelspec": {
   "name": "python38264bitexploreenvvenv87e07fb46bde47dfae1296eaba249c39",
   "display_name": "Python 3.8.2 64-bit ('exploreEnv': venv)"
  }
 },
 "nbformat": 4,
 "nbformat_minor": 2
}