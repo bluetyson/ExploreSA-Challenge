{
 "cells": [
  {
   "cell_type": "code",
   "execution_count": 1,
   "metadata": {},
   "outputs": [],
   "source": [
    "import numpy as np \n",
    "import pandas as pd \n",
    "import pickle\n",
    "\n",
    "from FDSSC import models, utils\n",
    "from datasets.datasets import LocationChecker, FDSSCDataset\n",
    "from matplotlib import pyplot as plt\n",
    "import torch\n",
    "from torch.utils.data import DataLoader"
   ]
  },
  {
   "cell_type": "code",
   "execution_count": 2,
   "metadata": {
    "tags": []
   },
   "outputs": [],
   "source": [
    "datadir = \"data/stacked_images\"\n",
    "csv = \"miningSites/masked_labels.csv\"\n",
    "id2idx = utils.get_id2idx(pd.read_csv(csv), \"MAJOR_COMMODITY_CODE\")\n",
    "import pickle\n",
    "\n",
    "pickle.dump(id2idx, open(\"data/id2idxMasked.p\", \"wb\"))"
   ]
  },
  {
   "cell_type": "code",
   "execution_count": 5,
   "metadata": {
    "tags": []
   },
   "outputs": [
    {
     "output_type": "stream",
     "name": "stdout",
     "text": "{'NONE': 0, 'Ni': 1, 'Mn': 2, 'Ag': 3, 'Pb': 4, 'Cu': 5, 'Fe': 6, 'U': 7, 'Au': 8}\n"
    }
   ],
   "source": [
    "print(id2idx)"
   ]
  },
  {
   "cell_type": "code",
   "execution_count": 4,
   "metadata": {
    "tags": []
   },
   "outputs": [],
   "source": [
    "df = pd.read_csv(csv)\n",
    "\n",
    "df[\"label\"] = utils.create_idxlist(pd.read_csv(csv), \"MAJOR_COMMODITY_CODE\", id2idx)\n",
    "\n",
    "df.to_csv(\"miningSites/labeled_masked_labels.csv\", index=False)"
   ]
  },
  {
   "cell_type": "code",
   "execution_count": 4,
   "metadata": {
    "tags": []
   },
   "outputs": [
    {
     "output_type": "stream",
     "name": "stdout",
     "text": "{'MHEM': 4, 'DOLR': 1, 'GRNTK': 1, 'GRPH': 22, 'JADE': 113, 'TOZ': 1, 'Co': 6, 'SiO2': 4, 'TALC': 4, 'Sn': 5, 'OCR': 7, 'Ta': 1, 'OPAL': 143, 'MIC': 2, 'AGA': 2, 'GARN': 1, 'AMY': 2, 'FELD': 3, 'Pb': 82, 'ASBT': 10, 'BRL': 2, 'Cr': 8, 'Mn': 66, 'CAL': 5, 'FEST': 10, 'U': 52, 'Au': 307, 'Cu': 589, 'NPT': 1, 'LSND': 14, 'Th': 4, 'FLUR': 2, 'SALT': 31, 'PHOS': 26, 'GYPS': 68, 'ILM': 1, 'CYP': 2, 'CALI': 80, 'V': 1, 'MSLT': 162, 'GRVL': 38, 'Mo': 1, 'TRN': 1, 'QTZE': 55, 'FEORE': 14, 'SGRT': 5, 'KAO': 25, 'SLST': 31, 'SHA': 11, 'PALY': 4, 'MARB': 12, 'CLAY': 96, 'BAS': 1, 'EPS': 16, 'COAL': 34, 'QZ': 2, 'REE': 4, 'BAR': 73, 'DOL': 57, 'Ni': 18, 'GRNT': 58, 'GBRO': 1, 'GNSS': 7, 'Fe': 139, 'Ag': 28, 'SIS': 9, 'OSH': 1, 'HLY': 1, 'MAGS': 24, 'S': 1, 'SDST': 113, 'LMST': 68, 'PTM': 1, 'DIA': 39, 'HMIN': 38, 'COR': 1, 'W': 2, 'SLAT': 17, 'Ra': 1, 'Zn': 53, 'RHYO': 6, 'SAND': 131, 'ALU': 5, 'Al': 2, 'CELES': 23}\n"
    }
   ],
   "source": [
    "datadir = \"data/stacked_images\"\n",
    "csv = \"miningSites/masked_labels.csv\"\n",
    "checker = LocationChecker(datadir, size=(9, 9), rigorous=False)\n",
    "landsat8Data = FDSSCDataset(datadir, csv, lochecker=checker)\n",
    "dataloader = DataLoader(landsat8Data, batch_size=16, shuffle=True, num_workers=1)\n",
    "#id2idx = utils.get_id2idx(pd.read_csv(csv), \"MAJOR_COMMODITY_CODE\")\n",
    "id2idx = pickle.load(open(\"data/id2idxMasked.p\", \"rb\"))\n",
    "idx2id = {value: key for key, value in id2idx.items()}\n",
    "print(utils.freqdict(pd.read_csv(csv), \"MAJOR_COMMODITY_CODE\"))"
   ]
  },
  {
   "cell_type": "code",
   "execution_count": 6,
   "metadata": {},
   "outputs": [
    {
     "output_type": "execute_result",
     "data": {
      "text/plain": "FerDSSC_model(\n  (input_spec_conv): Conv3d(1, 24, kernel_size=(1, 1, 7), stride=(1, 1, 1), padding=(0, 0, 3))\n  (spectral_conv1): Spectral_conv(\n    (bn_prelu): Bn_prelu(\n      (bn): BatchNorm3d(24, eps=1e-05, momentum=0.1, affine=True, track_running_stats=True)\n      (prelu): PReLU(num_parameters=1)\n    )\n    (conv3d): Conv3d(24, 12, kernel_size=(1, 1, 7), stride=(1, 1, 1), padding=(0, 0, 3))\n  )\n  (spectral_conv2): Spectral_conv(\n    (bn_prelu): Bn_prelu(\n      (bn): BatchNorm3d(36, eps=1e-05, momentum=0.1, affine=True, track_running_stats=True)\n      (prelu): PReLU(num_parameters=1)\n    )\n    (conv3d): Conv3d(36, 12, kernel_size=(1, 1, 7), stride=(1, 1, 1), padding=(0, 0, 3))\n  )\n  (spectral_conv3): Spectral_conv(\n    (bn_prelu): Bn_prelu(\n      (bn): BatchNorm3d(48, eps=1e-05, momentum=0.1, affine=True, track_running_stats=True)\n      (prelu): PReLU(num_parameters=1)\n    )\n    (conv3d): Conv3d(48, 12, kernel_size=(1, 1, 7), stride=(1, 1, 1), padding=(0, 0, 3))\n  )\n  (bn_prelu1): Bn_prelu(\n    (bn): BatchNorm3d(60, eps=1e-05, momentum=0.1, affine=True, track_running_stats=True)\n    (prelu): PReLU(num_parameters=1)\n  )\n  (reshape_conv): Conv3d(60, 30, kernel_size=(1, 1, 11), stride=(1, 1, 1))\n  (bn_prelu2): Bn_prelu(\n    (bn): BatchNorm3d(30, eps=1e-05, momentum=0.1, affine=True, track_running_stats=True)\n    (prelu): PReLU(num_parameters=1)\n  )\n  (input_spat_conv): Conv3d(1, 24, kernel_size=(3, 3, 30), stride=(1, 1, 1))\n  (spatial_conv1): Spatial_conv(\n    (bn_prelu): Bn_prelu(\n      (bn): BatchNorm3d(24, eps=1e-05, momentum=0.1, affine=True, track_running_stats=True)\n      (prelu): PReLU(num_parameters=1)\n    )\n    (conv3d): Conv3d(24, 12, kernel_size=(3, 3, 1), stride=(1, 1, 1), padding=(1, 1, 0))\n  )\n  (spatial_conv2): Spatial_conv(\n    (bn_prelu): Bn_prelu(\n      (bn): BatchNorm3d(36, eps=1e-05, momentum=0.1, affine=True, track_running_stats=True)\n      (prelu): PReLU(num_parameters=1)\n    )\n    (conv3d): Conv3d(36, 12, kernel_size=(3, 3, 1), stride=(1, 1, 1), padding=(1, 1, 0))\n  )\n  (spatial_conv3): Spatial_conv(\n    (bn_prelu): Bn_prelu(\n      (bn): BatchNorm3d(48, eps=1e-05, momentum=0.1, affine=True, track_running_stats=True)\n      (prelu): PReLU(num_parameters=1)\n    )\n    (conv3d): Conv3d(48, 12, kernel_size=(3, 3, 1), stride=(1, 1, 1), padding=(1, 1, 0))\n  )\n  (bn_prelu3): Bn_prelu(\n    (bn): BatchNorm3d(60, eps=1e-05, momentum=0.1, affine=True, track_running_stats=True)\n    (prelu): PReLU(num_parameters=1)\n  )\n  (pool1): AvgPool3d(kernel_size=(7, 7, 1), stride=(1, 1, 1), padding=0)\n  (drop1): Dropout(p=0.5, inplace=False)\n  (fc1): Linear(in_features=60, out_features=85, bias=True)\n  (softm): Softmax(dim=None)\n)"
     },
     "metadata": {},
     "execution_count": 6
    }
   ],
   "source": [
    "# training model\n",
    "device = torch.device(\"cuda:0\" if torch.cuda.is_available() else \"cpu\")\n",
    "\n",
    "model = models.FerDSSC_model((1, 9, 9, 11), len(list(id2idx.keys())))\n",
    "loss_fn = torch.nn.CrossEntropyLoss()\n",
    "optimizer = torch.optim.Adam(model.parameters(), lr=0.0001)\n",
    "model.to(device)"
   ]
  },
  {
   "cell_type": "code",
   "execution_count": null,
   "metadata": {},
   "outputs": [],
   "source": []
  },
  {
   "cell_type": "code",
   "execution_count": 7,
   "metadata": {
    "tags": []
   },
   "outputs": [
    {
     "output_type": "stream",
     "name": "stdout",
     "text": "\n======== Epoch 1 / 1 ========\nTraining...\n  Batch   194  of    195.    Loss: 4.45     Elapsed: 0:05:22.\n  Average training loss: 4.44\n  Training epoch took: 0:05:22\n"
    },
    {
     "output_type": "execute_result",
     "data": {
      "text/plain": "[4.438143434280004]"
     },
     "metadata": {},
     "execution_count": 7
    }
   ],
   "source": [
    "utils.train(model, dataloader, epochs=1, loss_fn=loss_fn, optimizer=optimizer)"
   ]
  },
  {
   "cell_type": "code",
   "execution_count": null,
   "metadata": {},
   "outputs": [],
   "source": [
    "#callback for"
   ]
  }
 ],
 "metadata": {
  "language_info": {
   "codemirror_mode": {
    "name": "ipython",
    "version": 3
   },
   "file_extension": ".py",
   "mimetype": "text/x-python",
   "name": "python",
   "nbconvert_exporter": "python",
   "pygments_lexer": "ipython3",
   "version": "3.8.2-final"
  },
  "orig_nbformat": 2,
  "kernelspec": {
   "name": "python38264bitexploreenvvenv87e07fb46bde47dfae1296eaba249c39",
   "display_name": "Python 3.8.2 64-bit ('exploreEnv': venv)"
  }
 },
 "nbformat": 4,
 "nbformat_minor": 2
}