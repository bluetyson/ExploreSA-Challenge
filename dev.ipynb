{
 "cells": [
  {
   "cell_type": "code",
   "execution_count": 1,
   "metadata": {},
   "outputs": [],
   "source": [
    "import numpy as np \n",
    "import pandas as pd \n",
    "import pickle\n",
    "\n",
    "from FDSSC import models, utils\n",
    "from datasets.datasets import LocationChecker, FDSSCDataset\n",
    "from matplotlib import pyplot as plt\n",
    "import torch\n",
    "from torch.utils.data import DataLoader"
   ]
  },
  {
   "cell_type": "code",
   "execution_count": 2,
   "metadata": {
    "tags": []
   },
   "outputs": [],
   "source": [
    "datadir = \"data/stacked_images\"\n",
    "csv = \"miningSites/labeled_masked_labels.csv\"\n",
    "checker = LocationChecker(datadir, size=(9, 9), rigorous=False)\n",
    "landsat8Data = FDSSCDataset(datadir, csv, lochecker=checker)\n",
    "dataloader = DataLoader(landsat8Data, batch_size=16, shuffle=True, num_workers=1)\n",
    "#id2idx = utils.get_id2idx(pd.read_csv(csv), \"MAJOR_COMMODITY_CODE\")\n",
    "id2idx = pickle.load(open(\"data/id2idxMasked.p\", \"rb\"))\n",
    "idx2id = {value: key for key, value in id2idx.items()}"
   ]
  },
  {
   "cell_type": "code",
   "execution_count": 4,
   "metadata": {},
   "outputs": [],
   "source": [
    "#splitting model to 3 files\n",
    "parent = \"siteData/allData/\"\n",
    "train, val, test = utils.splitData(pd.read_csv(csv).sample(frac=1))\n",
    "train.to_csv(parent+\"train.csv\", index=False)\n",
    "val.to_csv(parent+\"val.csv\", index=False)\n",
    "test.to_csv(parent+\"test.csv\", index=False)"
   ]
  },
  {
   "cell_type": "code",
   "execution_count": 6,
   "metadata": {},
   "outputs": [
    {
     "output_type": "execute_result",
     "data": {
      "text/plain": "FerDSSC_model(\n  (input_spec_conv): Conv3d(1, 24, kernel_size=(1, 1, 7), stride=(1, 1, 1), padding=(0, 0, 3))\n  (spectral_conv1): Spectral_conv(\n    (bn_prelu): Bn_prelu(\n      (bn): BatchNorm3d(24, eps=1e-05, momentum=0.1, affine=True, track_running_stats=True)\n      (prelu): PReLU(num_parameters=1)\n    )\n    (conv3d): Conv3d(24, 12, kernel_size=(1, 1, 7), stride=(1, 1, 1), padding=(0, 0, 3))\n  )\n  (spectral_conv2): Spectral_conv(\n    (bn_prelu): Bn_prelu(\n      (bn): BatchNorm3d(36, eps=1e-05, momentum=0.1, affine=True, track_running_stats=True)\n      (prelu): PReLU(num_parameters=1)\n    )\n    (conv3d): Conv3d(36, 12, kernel_size=(1, 1, 7), stride=(1, 1, 1), padding=(0, 0, 3))\n  )\n  (spectral_conv3): Spectral_conv(\n    (bn_prelu): Bn_prelu(\n      (bn): BatchNorm3d(48, eps=1e-05, momentum=0.1, affine=True, track_running_stats=True)\n      (prelu): PReLU(num_parameters=1)\n    )\n    (conv3d): Conv3d(48, 12, kernel_size=(1, 1, 7), stride=(1, 1, 1), padding=(0, 0, 3))\n  )\n  (bn_prelu1): Bn_prelu(\n    (bn): BatchNorm3d(60, eps=1e-05, momentum=0.1, affine=True, track_running_stats=True)\n    (prelu): PReLU(num_parameters=1)\n  )\n  (reshape_conv): Conv3d(60, 30, kernel_size=(1, 1, 11), stride=(1, 1, 1))\n  (bn_prelu2): Bn_prelu(\n    (bn): BatchNorm3d(30, eps=1e-05, momentum=0.1, affine=True, track_running_stats=True)\n    (prelu): PReLU(num_parameters=1)\n  )\n  (input_spat_conv): Conv3d(1, 24, kernel_size=(3, 3, 30), stride=(1, 1, 1))\n  (spatial_conv1): Spatial_conv(\n    (bn_prelu): Bn_prelu(\n      (bn): BatchNorm3d(24, eps=1e-05, momentum=0.1, affine=True, track_running_stats=True)\n      (prelu): PReLU(num_parameters=1)\n    )\n    (conv3d): Conv3d(24, 12, kernel_size=(3, 3, 1), stride=(1, 1, 1), padding=(1, 1, 0))\n  )\n  (spatial_conv2): Spatial_conv(\n    (bn_prelu): Bn_prelu(\n      (bn): BatchNorm3d(36, eps=1e-05, momentum=0.1, affine=True, track_running_stats=True)\n      (prelu): PReLU(num_parameters=1)\n    )\n    (conv3d): Conv3d(36, 12, kernel_size=(3, 3, 1), stride=(1, 1, 1), padding=(1, 1, 0))\n  )\n  (spatial_conv3): Spatial_conv(\n    (bn_prelu): Bn_prelu(\n      (bn): BatchNorm3d(48, eps=1e-05, momentum=0.1, affine=True, track_running_stats=True)\n      (prelu): PReLU(num_parameters=1)\n    )\n    (conv3d): Conv3d(48, 12, kernel_size=(3, 3, 1), stride=(1, 1, 1), padding=(1, 1, 0))\n  )\n  (bn_prelu3): Bn_prelu(\n    (bn): BatchNorm3d(60, eps=1e-05, momentum=0.1, affine=True, track_running_stats=True)\n    (prelu): PReLU(num_parameters=1)\n  )\n  (pool1): AvgPool3d(kernel_size=(7, 7, 1), stride=(1, 1, 1), padding=0)\n  (drop1): Dropout(p=0.5, inplace=False)\n  (fc1): Linear(in_features=60, out_features=85, bias=True)\n  (softm): Softmax(dim=None)\n)"
     },
     "metadata": {},
     "execution_count": 6
    }
   ],
   "source": [
    "# training model\n",
    "device = torch.device(\"cuda:0\" if torch.cuda.is_available() else \"cpu\")\n",
    "\n",
    "model = models.FerDSSC_model((1, 9, 9, 11), len(list(id2idx.keys())))\n",
    "loss_fn = torch.nn.CrossEntropyLoss()\n",
    "optimizer = torch.optim.Adam(model.parameters(), lr=0.0001)\n",
    "model.to(device)"
   ]
  },
  {
   "cell_type": "code",
   "execution_count": null,
   "metadata": {},
   "outputs": [],
   "source": []
  },
  {
   "cell_type": "code",
   "execution_count": 7,
   "metadata": {
    "tags": []
   },
   "outputs": [
    {
     "output_type": "stream",
     "name": "stdout",
     "text": "\n======== Epoch 1 / 1 ========\nTraining...\n  Batch   194  of    195.    Loss: 4.45     Elapsed: 0:05:22.\n  Average training loss: 4.44\n  Training epoch took: 0:05:22\n"
    },
    {
     "output_type": "execute_result",
     "data": {
      "text/plain": "[4.438143434280004]"
     },
     "metadata": {},
     "execution_count": 7
    }
   ],
   "source": [
    "utils.train(model, dataloader, epochs=1, loss_fn=loss_fn, optimizer=optimizer)"
   ]
  },
  {
   "cell_type": "code",
   "execution_count": null,
   "metadata": {},
   "outputs": [],
   "source": [
    "#callback for"
   ]
  }
 ],
 "metadata": {
  "language_info": {
   "codemirror_mode": {
    "name": "ipython",
    "version": 3
   },
   "file_extension": ".py",
   "mimetype": "text/x-python",
   "name": "python",
   "nbconvert_exporter": "python",
   "pygments_lexer": "ipython3",
   "version": "3.8.2-final"
  },
  "orig_nbformat": 2,
  "kernelspec": {
   "name": "python38264bitexploreenvvenv87e07fb46bde47dfae1296eaba249c39",
   "display_name": "Python 3.8.2 64-bit ('exploreEnv': venv)"
  }
 },
 "nbformat": 4,
 "nbformat_minor": 2
}