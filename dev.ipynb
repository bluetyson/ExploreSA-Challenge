{
 "cells": [
  {
   "cell_type": "code",
   "execution_count": null,
   "metadata": {},
   "outputs": [],
   "source": [
    "import numpy as np \n",
    "import pandas as pd \n",
    "import rasterio\n",
    "import rasterio.features\n",
    "import rasterio.warp\n",
    "import folium\n",
    "from pyproj import transform, Proj, CRS\n",
    "\n",
    "from FDSSC import models, utils\n",
    "from matplotlib import pyplot as plt"
   ]
  },
  {
   "cell_type": "code",
   "execution_count": null,
   "metadata": {
    "tags": []
   },
   "outputs": [],
   "source": [
    "datadir = \"data\"\n",
    "dir2name = utils.walkdir(datadir)"
   ]
  },
  {
   "cell_type": "code",
   "execution_count": null,
   "metadata": {
    "tags": []
   },
   "outputs": [],
   "source": [
    "utils.collate_images(dir2name.values())"
   ]
  },
  {
   "cell_type": "code",
   "execution_count": null,
   "metadata": {},
   "outputs": [],
   "source": [
    "dataset = rasterio.open(dir2files.values()[0][0])"
   ]
  },
  {
   "cell_type": "code",
   "execution_count": null,
   "metadata": {
    "tags": []
   },
   "outputs": [],
   "source": [
    "# read the csv into a pandas data frame\n",
    "OCC_df = pd.read_csv('miningSites/processedMS.csv', header=0, index_col=False)\n",
    "\n",
    "OCC_df = OCC_df.loc[OCC_df[\"MAJOR_COMMODITY_CODE\"] == \"Au\"]\n"
   ]
  },
  {
   "cell_type": "code",
   "execution_count": null,
   "metadata": {},
   "outputs": [],
   "source": [
    "m = folium.Map(location=[-31.743944369555788, 138.29644592694788], tiles='OpenStreetMap', zoom_start=8)\n",
    "\n",
    "\n",
    "tile = folium.TileLayer(\n",
    "        tiles = 'https://server.arcgisonline.com/ArcGIS/rest/services/World_Imagery/MapServer/tile/{z}/{y}/{x}',\n",
    "        attr = 'Esri', name = 'Esri Satellite', overlay = False, \n",
    "        control = True, opacity=0.7).add_to(m)\n",
    "root = \"data/stacked_images\"\n",
    "for files in list(dir2name.values())[0]:\n",
    "        dataset = rasterio.open(files)\n",
    "        image_loc = folium.vector_layers.Polygon([(y, x) for x, y in utils.findshape(dataset)[0][\"coordinates\"][0]]).add_to(m)\n",
    "for i in OCC_df.index:\n",
    "    folium.Marker([OCC_df.loc[i,'LATITUDE'], \n",
    "                    OCC_df.loc[i,'LONGITUDE']]).add_to(m)\n",
    "\n",
    "m"
   ]
  },
  {
   "cell_type": "code",
   "execution_count": null,
   "metadata": {},
   "outputs": [],
   "source": []
  },
  {
   "cell_type": "code",
   "execution_count": null,
   "metadata": {},
   "outputs": [],
   "source": [
    "# creating function to read in portions of an image\n",
    "\n",
    "def extract_cubic(dataset, coords, size=(9, 9), ):\n",
    "    '''takes in a opened rasterio dataset, a list of tuples of coords [(lat, long),], size of the extracted cubics'''\n",
    "\n",
    "     image = dataset.read()"
   ]
  }
 ],
 "metadata": {
  "language_info": {
   "codemirror_mode": {
    "name": "ipython",
    "version": 3
   },
   "file_extension": ".py",
   "mimetype": "text/x-python",
   "name": "python",
   "nbconvert_exporter": "python",
   "pygments_lexer": "ipython3",
   "version": "3.8.2-final"
  },
  "orig_nbformat": 2,
  "kernelspec": {
   "name": "python38264bitexploreenvvenv87e07fb46bde47dfae1296eaba249c39",
   "display_name": "Python 3.8.2 64-bit ('exploreEnv': venv)"
  }
 },
 "nbformat": 4,
 "nbformat_minor": 2
}