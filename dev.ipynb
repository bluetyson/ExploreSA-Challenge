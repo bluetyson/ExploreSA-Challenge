{
 "cells": [
  {
   "cell_type": "code",
   "execution_count": 1,
   "metadata": {},
   "outputs": [],
   "source": [
    "import numpy as np \n",
    "import pandas as pd \n",
    "import pickle\n",
    "\n",
    "from FDSSC import models, utils\n",
    "from datasets.datasets import LocationChecker, FDSSCDataset, RandomRotation\n",
    "from matplotlib import pyplot as plt\n",
    "import torch\n",
    "from torch.utils.data import DataLoader"
   ]
  },
  {
   "cell_type": "code",
   "execution_count": null,
   "metadata": {},
   "outputs": [],
   "source": [
    "# process data to "
   ]
  },
  {
   "cell_type": "code",
   "execution_count": 2,
   "metadata": {
    "tags": []
   },
   "outputs": [],
   "source": [
    "datadir = \"data/stacked_images\"\n",
    "labeldir = \"siteData/allData/\"\n",
    "checker = LocationChecker(datadir, size=(9, 9), rigorous=False)\n",
    "trainLandsat8Data = FDSSCDataset(datadir, labeldir+\"train.csv\", lochecker=checker, transform=[RandomRotation()])\n",
    "valLandsat8Data = FDSSCDataset(datadir, labeldir+\"val.csv\", lochecker=checker)\n",
    "testLandsat8Data = FDSSCDataset(datadir, labeldir+\"test.csv\", lochecker=checker)\n",
    "trainLoader = DataLoader(trainLandsat8Data, batch_size=8, shuffle=True, num_workers=4)\n",
    "valLoader = DataLoader(valLandsat8Data, batch_size=16, num_workers=1)\n",
    "testLoader = DataLoader(testLandsat8Data, batch_size=16, num_workers=1)\n",
    "#id2idx = utils.get_id2idx(pd.read_csv(csv), \"MAJOR_COMMODITY_CODE\")\n",
    "id2idx = pickle.load(open(\"data/id2idxMasked.p\", \"rb\"))\n",
    "idx2id = {value: key for key, value in id2idx.items()}"
   ]
  },
  {
   "cell_type": "code",
   "execution_count": 3,
   "metadata": {},
   "outputs": [
    {
     "output_type": "execute_result",
     "data": {
      "text/plain": "FerDSSC_model(\n  (input_spec_conv): Conv3d(1, 24, kernel_size=(1, 1, 7), stride=(1, 1, 1), padding=(0, 0, 3))\n  (spectral_conv1): Spectral_conv(\n    (bn_prelu): Bn_prelu(\n      (bn): BatchNorm3d(24, eps=1e-05, momentum=0.1, affine=True, track_running_stats=True)\n      (prelu): PReLU(num_parameters=1)\n    )\n    (conv3d): Conv3d(24, 12, kernel_size=(1, 1, 7), stride=(1, 1, 1), padding=(0, 0, 3))\n  )\n  (spectral_conv2): Spectral_conv(\n    (bn_prelu): Bn_prelu(\n      (bn): BatchNorm3d(36, eps=1e-05, momentum=0.1, affine=True, track_running_stats=True)\n      (prelu): PReLU(num_parameters=1)\n    )\n    (conv3d): Conv3d(36, 12, kernel_size=(1, 1, 7), stride=(1, 1, 1), padding=(0, 0, 3))\n  )\n  (spectral_conv3): Spectral_conv(\n    (bn_prelu): Bn_prelu(\n      (bn): BatchNorm3d(48, eps=1e-05, momentum=0.1, affine=True, track_running_stats=True)\n      (prelu): PReLU(num_parameters=1)\n    )\n    (conv3d): Conv3d(48, 12, kernel_size=(1, 1, 7), stride=(1, 1, 1), padding=(0, 0, 3))\n  )\n  (bn_prelu1): Bn_prelu(\n    (bn): BatchNorm3d(60, eps=1e-05, momentum=0.1, affine=True, track_running_stats=True)\n    (prelu): PReLU(num_parameters=1)\n  )\n  (reshape_conv): Conv3d(60, 100, kernel_size=(1, 1, 11), stride=(1, 1, 1))\n  (bn_prelu2): Bn_prelu(\n    (bn): BatchNorm3d(100, eps=1e-05, momentum=0.1, affine=True, track_running_stats=True)\n    (prelu): PReLU(num_parameters=1)\n  )\n  (input_spat_conv): Conv3d(1, 24, kernel_size=(3, 3, 100), stride=(1, 1, 1))\n  (spatial_conv1): Spatial_conv(\n    (bn_prelu): Bn_prelu(\n      (bn): BatchNorm3d(24, eps=1e-05, momentum=0.1, affine=True, track_running_stats=True)\n      (prelu): PReLU(num_parameters=1)\n    )\n    (conv3d): Conv3d(24, 12, kernel_size=(3, 3, 1), stride=(1, 1, 1), padding=(1, 1, 0))\n  )\n  (spatial_conv2): Spatial_conv(\n    (bn_prelu): Bn_prelu(\n      (bn): BatchNorm3d(36, eps=1e-05, momentum=0.1, affine=True, track_running_stats=True)\n      (prelu): PReLU(num_parameters=1)\n    )\n    (conv3d): Conv3d(36, 12, kernel_size=(3, 3, 1), stride=(1, 1, 1), padding=(1, 1, 0))\n  )\n  (spatial_conv3): Spatial_conv(\n    (bn_prelu): Bn_prelu(\n      (bn): BatchNorm3d(48, eps=1e-05, momentum=0.1, affine=True, track_running_stats=True)\n      (prelu): PReLU(num_parameters=1)\n    )\n    (conv3d): Conv3d(48, 12, kernel_size=(3, 3, 1), stride=(1, 1, 1), padding=(1, 1, 0))\n  )\n  (bn_prelu3): Bn_prelu(\n    (bn): BatchNorm3d(60, eps=1e-05, momentum=0.1, affine=True, track_running_stats=True)\n    (prelu): PReLU(num_parameters=1)\n  )\n  (pool1): AvgPool3d(kernel_size=(7, 7, 1), stride=(1, 1, 1), padding=0)\n  (drop1): Dropout(p=0.5, inplace=False)\n  (fc1): Linear(in_features=60, out_features=9, bias=True)\n  (softm): Softmax(dim=None)\n)"
     },
     "metadata": {},
     "execution_count": 3
    }
   ],
   "source": [
    "# setting training device\n",
    "device = torch.device(\"cuda:0\" if torch.cuda.is_available() else \"cpu\")\n",
    "\n",
    "# initializing model and loss and optim\n",
    "model = models.FerDSSC_model((1, 9, 9, 11), len(list(id2idx.keys())))\n",
    "loss_fn = torch.nn.CrossEntropyLoss()\n",
    "optimizer = torch.optim.RMSprop(model.parameters(), lr=0.0003)\n",
    "\n",
    "# applying weight initialization\n",
    "model.apply(utils.init_weights)\n",
    "\n",
    "#putting model on training device\n",
    "model.to(device)\n"
   ]
  },
  {
   "cell_type": "code",
   "execution_count": null,
   "metadata": {},
   "outputs": [],
   "source": [
    "print(trainLandsat8Data[0])"
   ]
  },
  {
   "cell_type": "code",
   "execution_count": 4,
   "metadata": {
    "tags": []
   },
   "outputs": [
    {
     "output_type": "stream",
     "name": "stdout",
     "text": "\n======== Epoch 1 / 5 ========\nTraining...\n  Batch   311  of    312.    Loss: 2.85     Elapsed: 0:01:19.\n  Average training loss: 1.81\n  Training epoch took: 0:01:19\nRunning Validation...\n  Accuracy: 58.17\n  Validation took: 0:00:25\n\n======== Epoch 2 / 5 ========\nTraining...\n  Batch   311  of    312.    Loss: 2.37     Elapsed: 0:01:18.\n  Average training loss: 1.79\n  Training epoch took: 0:01:19\nRunning Validation...\n  Accuracy: 58.79\n  Validation took: 0:00:24\n\n======== Epoch 3 / 5 ========\nTraining...\n  Batch   311  of    312.    Loss: 1.37     Elapsed: 0:01:12.\n  Average training loss: 1.79\n  Training epoch took: 0:01:12\nRunning Validation...\n  Accuracy: 58.79\n  Validation took: 0:00:24\n\n======== Epoch 4 / 5 ========\nTraining...\n  Batch   311  of    312.    Loss: 1.37     Elapsed: 0:01:21.\n  Average training loss: 1.79\n  Training epoch took: 0:01:22\nRunning Validation...\n  Accuracy: 58.79\n  Validation took: 0:00:27\n\n======== Epoch 5 / 5 ========\nTraining...\n  Batch   311  of    312.    Loss: 1.37     Elapsed: 0:01:16.\n  Average training loss: 1.79\n  Training epoch took: 0:01:16\nRunning Validation...\n  Accuracy: 58.79\n  Validation took: 0:00:24\n"
    }
   ],
   "source": [
    "epochs = 5\n",
    "frequency = 5\n",
    "# setting up callbacks\n",
    "checkpointFolder = \"TrainingCheckpoints/3rdRun/\"\n",
    "cbs = [utils.validate_callback(model, valLoader, loss_fn, device),\n",
    "        utils.saving_checkpoints_callback(checkpointFolder, model, optimizer, frequency, epochs)]\n",
    "\n",
    "trainingLosses, CBouts = utils.train(model, trainLoader, epochs=epochs, loss_fn=loss_fn,\n",
    "                            optimizer=optimizer, callbacks=cbs)"
   ]
  },
  {
   "cell_type": "code",
   "execution_count": 5,
   "metadata": {
    "tags": []
   },
   "outputs": [
    {
     "output_type": "error",
     "ename": "NameError",
     "evalue": "name 'CBouts' is not defined",
     "traceback": [
      "\u001b[1;31m---------------------------------------------------------------------------\u001b[0m",
      "\u001b[1;31mNameError\u001b[0m                                 Traceback (most recent call last)",
      "\u001b[1;32m<ipython-input-5-72ad8e2df975>\u001b[0m in \u001b[0;36m<module>\u001b[1;34m\u001b[0m\n\u001b[1;32m----> 1\u001b[1;33m \u001b[0mvalLosses\u001b[0m \u001b[1;33m=\u001b[0m \u001b[1;33m[\u001b[0m\u001b[0meach\u001b[0m\u001b[1;33m.\u001b[0m\u001b[0mitem\u001b[0m\u001b[1;33m(\u001b[0m\u001b[1;33m)\u001b[0m \u001b[1;32mfor\u001b[0m \u001b[0meach\u001b[0m \u001b[1;32min\u001b[0m \u001b[0mlist\u001b[0m\u001b[1;33m(\u001b[0m\u001b[0mzip\u001b[0m\u001b[1;33m(\u001b[0m\u001b[1;33m*\u001b[0m\u001b[0mCBouts\u001b[0m\u001b[1;33m)\u001b[0m\u001b[1;33m)\u001b[0m\u001b[1;33m[\u001b[0m\u001b[1;36m0\u001b[0m\u001b[1;33m]\u001b[0m\u001b[1;33m]\u001b[0m\u001b[1;33m\u001b[0m\u001b[1;33m\u001b[0m\u001b[0m\n\u001b[0m\u001b[0;32m      2\u001b[0m \u001b[0mprint\u001b[0m\u001b[1;33m(\u001b[0m\u001b[0mvalLosses\u001b[0m\u001b[1;33m)\u001b[0m\u001b[1;33m\u001b[0m\u001b[1;33m\u001b[0m\u001b[0m\n\u001b[0;32m      3\u001b[0m \u001b[0mprint\u001b[0m\u001b[1;33m(\u001b[0m\u001b[0mtrainingLosses\u001b[0m\u001b[1;33m)\u001b[0m\u001b[1;33m\u001b[0m\u001b[1;33m\u001b[0m\u001b[0m\n",
      "\u001b[1;31mNameError\u001b[0m: name 'CBouts' is not defined"
     ]
    }
   ],
   "source": [
    "valLosses = [each.item() for each in list(zip(*CBouts))[0]]\n",
    "print(valLosses)\n",
    "print(trainingLosses)"
   ]
  },
  {
   "cell_type": "code",
   "execution_count": 6,
   "metadata": {},
   "outputs": [],
   "source": [
    "import matplotlib.pyplot as plt\n",
    "%matplotlib inline\n",
    "import seaborn as sns\n",
    "def plot_loss_vals(loss_vals, lv2, title=\"Training loss\", start_idx=1):\n",
    "    sns.set(style='darkgrid')\n",
    "    sns.set(font_scale=1.5)\n",
    "    plt.rcParams[\"figure.figsize\"] = (12,6)\n",
    "    plt.plot([i + start_idx for i in range(len(loss_vals[start_idx - 1:]))], loss_vals[start_idx - 1:], 'b-o', label=\"Training Loss (softmax)\")\n",
    "    plt.plot([i + start_idx for i in range(len(lv2[start_idx - 1:]))], lv2[start_idx - 1:], 'r-o', label=\"Val Loss (softmax)\")\n",
    "    plt.title(title)\n",
    "    plt.xlabel(\"Epoch\")\n",
    "    plt.ylabel(\"Loss\")\n",
    "    plt.legend()\n",
    "    plt.show()\n",
    "plot_loss_vals(trainingLosses, valLosses, title=\"Training and Val Loss, FerDSSC, with 100 latent space\", start_idx=2)"
   ]
  },
  {
   "cell_type": "code",
   "execution_count": 8,
   "metadata": {},
   "outputs": [
    {
     "output_type": "error",
     "ename": "KeyError",
     "evalue": "0",
     "traceback": [
      "\u001b[1;31m---------------------------------------------------------------------------\u001b[0m",
      "\u001b[1;31mKeyError\u001b[0m                                  Traceback (most recent call last)",
      "\u001b[1;32m<ipython-input-8-dbd48701d7a3>\u001b[0m in \u001b[0;36m<module>\u001b[1;34m\u001b[0m\n\u001b[0;32m     17\u001b[0m \u001b[1;32mfor\u001b[0m \u001b[0mi\u001b[0m \u001b[1;32min\u001b[0m \u001b[0mrange\u001b[0m\u001b[1;33m(\u001b[0m\u001b[1;36m10\u001b[0m\u001b[1;33m)\u001b[0m\u001b[1;33m:\u001b[0m\u001b[1;33m\u001b[0m\u001b[1;33m\u001b[0m\u001b[0m\n\u001b[0;32m     18\u001b[0m     print('Accuracy of %5s : %2d %%' % (\n\u001b[1;32m---> 19\u001b[1;33m         id2idx[i], 100 * class_correct[i] / class_total[i]))\n\u001b[0m",
      "\u001b[1;31mKeyError\u001b[0m: 0"
     ]
    }
   ],
   "source": [
    "# evaluate test accuracy\n",
    "\n",
    "class_correct = list(0. for i in range(len(id2idx)))\n",
    "class_total = list(0. for i in range(len(id2idx)))\n",
    "with torch.no_grad():\n",
    "    for data in testLoader:\n",
    "        inputs, labels = data[\"image\"].to(device), data[\"label\"].to(device)\n",
    "        outputs = model(inputs)\n",
    "        _, predicted = torch.max(outputs, 1)\n",
    "        c = (predicted == labels).squeeze()\n",
    "        for i in range(labels.size(0)):\n",
    "            label = labels[i]\n",
    "            class_correct[label] += c[i].item()\n",
    "            class_total[label] += 1\n"
   ]
  },
  {
   "cell_type": "code",
   "execution_count": null,
   "metadata": {},
   "outputs": [],
   "source": []
  }
 ],
 "metadata": {
  "language_info": {
   "codemirror_mode": {
    "name": "ipython",
    "version": 3
   },
   "file_extension": ".py",
   "mimetype": "text/x-python",
   "name": "python",
   "nbconvert_exporter": "python",
   "pygments_lexer": "ipython3",
   "version": "3.8.2-final"
  },
  "orig_nbformat": 2,
  "kernelspec": {
   "name": "python38264bitexploreenvvenv87e07fb46bde47dfae1296eaba249c39",
   "display_name": "Python 3.8.2 64-bit ('exploreEnv': venv)"
  }
 },
 "nbformat": 4,
 "nbformat_minor": 2
}