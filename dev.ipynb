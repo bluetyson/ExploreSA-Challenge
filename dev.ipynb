{
 "cells": [
  {
   "cell_type": "code",
   "execution_count": 1,
   "metadata": {},
   "outputs": [],
   "source": [
    "import numpy as np \n",
    "import pandas as pd \n",
    "import pickle\n",
    "\n",
    "from FDSSC import models, utils\n",
    "from datasets.datasets import LocationChecker, FDSSCDataset, RandomRotation\n",
    "from matplotlib import pyplot as plt\n",
    "import torch\n",
    "from torch.utils.data import DataLoader"
   ]
  },
  {
   "cell_type": "code",
   "execution_count": 33,
   "metadata": {
    "tags": []
   },
   "outputs": [
    {
     "output_type": "stream",
     "name": "stdout",
     "text": "(15984, 12)\n"
    },
    {
     "output_type": "execute_result",
     "data": {
      "text/plain": "   Unnamed: 0  MINERAL_DEPOSIT_NO DEPOSIT_COMMODITY_CODES  \\\n0           0                  40                     CYP   \n1           1                3490                      Cu   \n1           1                3490                      Cu   \n1           1                3490                      Cu   \n2           2                9170                      Cr   \n\n  MAJOR_COMMODITY_CODE MINDEP_CLASS_CODE STATUS_TYPE_VALUE   SIZE_TYPE_VALUE  \\\n0                 NONE        OCCURRENCE        Not worked  Low Significance   \n1                   Cu        OCCURRENCE         Abandoned  Low Significance   \n1                   Cu        OCCURRENCE         Abandoned  Low Significance   \n1                   Cu        OCCURRENCE         Abandoned  Low Significance   \n2                 NONE        OCCURRENCE        Not worked  Low Significance   \n\n  ORE_LITHOLOGY_CODE   LONGITUDE   LATITUDE  label  \\\n0               LATR  132.608253 -26.980629      0   \n1               VEIN  133.314408 -26.980648      5   \n1               VEIN  133.314408 -26.980648      5   \n1               VEIN  133.314408 -26.980648      5   \n2               IMAF  132.537458 -26.984733      0   \n\n                                               paths  \n0  data/stacked_images/LC08_L1TP_102079_20191204_...  \n1  data/stacked_images/LC08_L1TP_102079_20191204_...  \n1  data/stacked_images/LC08_L1TP_102079_20191204_...  \n1  data/stacked_images/LC08_L1TP_102079_20191204_...  \n2  data/stacked_images/LC08_L1TP_102079_20191204_...  ",
      "text/html": "<div>\n<style scoped>\n    .dataframe tbody tr th:only-of-type {\n        vertical-align: middle;\n    }\n\n    .dataframe tbody tr th {\n        vertical-align: top;\n    }\n\n    .dataframe thead th {\n        text-align: right;\n    }\n</style>\n<table border=\"1\" class=\"dataframe\">\n  <thead>\n    <tr style=\"text-align: right;\">\n      <th></th>\n      <th>Unnamed: 0</th>\n      <th>MINERAL_DEPOSIT_NO</th>\n      <th>DEPOSIT_COMMODITY_CODES</th>\n      <th>MAJOR_COMMODITY_CODE</th>\n      <th>MINDEP_CLASS_CODE</th>\n      <th>STATUS_TYPE_VALUE</th>\n      <th>SIZE_TYPE_VALUE</th>\n      <th>ORE_LITHOLOGY_CODE</th>\n      <th>LONGITUDE</th>\n      <th>LATITUDE</th>\n      <th>label</th>\n      <th>paths</th>\n    </tr>\n  </thead>\n  <tbody>\n    <tr>\n      <th>0</th>\n      <td>0</td>\n      <td>40</td>\n      <td>CYP</td>\n      <td>NONE</td>\n      <td>OCCURRENCE</td>\n      <td>Not worked</td>\n      <td>Low Significance</td>\n      <td>LATR</td>\n      <td>132.608253</td>\n      <td>-26.980629</td>\n      <td>0</td>\n      <td>data/stacked_images/LC08_L1TP_102079_20191204_...</td>\n    </tr>\n    <tr>\n      <th>1</th>\n      <td>1</td>\n      <td>3490</td>\n      <td>Cu</td>\n      <td>Cu</td>\n      <td>OCCURRENCE</td>\n      <td>Abandoned</td>\n      <td>Low Significance</td>\n      <td>VEIN</td>\n      <td>133.314408</td>\n      <td>-26.980648</td>\n      <td>5</td>\n      <td>data/stacked_images/LC08_L1TP_102079_20191204_...</td>\n    </tr>\n    <tr>\n      <th>1</th>\n      <td>1</td>\n      <td>3490</td>\n      <td>Cu</td>\n      <td>Cu</td>\n      <td>OCCURRENCE</td>\n      <td>Abandoned</td>\n      <td>Low Significance</td>\n      <td>VEIN</td>\n      <td>133.314408</td>\n      <td>-26.980648</td>\n      <td>5</td>\n      <td>data/stacked_images/LC08_L1TP_102079_20191204_...</td>\n    </tr>\n    <tr>\n      <th>1</th>\n      <td>1</td>\n      <td>3490</td>\n      <td>Cu</td>\n      <td>Cu</td>\n      <td>OCCURRENCE</td>\n      <td>Abandoned</td>\n      <td>Low Significance</td>\n      <td>VEIN</td>\n      <td>133.314408</td>\n      <td>-26.980648</td>\n      <td>5</td>\n      <td>data/stacked_images/LC08_L1TP_102079_20191204_...</td>\n    </tr>\n    <tr>\n      <th>2</th>\n      <td>2</td>\n      <td>9170</td>\n      <td>Cr</td>\n      <td>NONE</td>\n      <td>OCCURRENCE</td>\n      <td>Not worked</td>\n      <td>Low Significance</td>\n      <td>IMAF</td>\n      <td>132.537458</td>\n      <td>-26.984733</td>\n      <td>0</td>\n      <td>data/stacked_images/LC08_L1TP_102079_20191204_...</td>\n    </tr>\n  </tbody>\n</table>\n</div>"
     },
     "metadata": {},
     "execution_count": 33
    }
   ],
   "source": [
    "datadir = \"data/stacked_images\"\n",
    "labeldir = \"miningSites/labeled_masked_labels.csv\"\n",
    "df = pd.read_csv(labeldir)\n",
    "freqdict = utils.freqdict(df, \"MAJOR_COMMODITY_CODE\")\n",
    "max_num = max(freqdict.values())\n",
    "mult_dict = {key: max_num // value for key, value in freqdict.items()}\n",
    "\n",
    "multlist = [mult_dict[each] for each in df[\"MAJOR_COMMODITY_CODE\"]]\n",
    "\n",
    "outputlist = []\n",
    "for (_, row), factor in zip(df.iterrows(), multlist):\n",
    "    for i in range(factor):\n",
    "        outputlist.append(row)\n",
    "\n",
    "outputdf = pd.DataFrame(outputlist, columns=df.columns)\n",
    "print(outputdf.shape)\n",
    "outputdf.head(5)"
   ]
  },
  {
   "cell_type": "code",
   "execution_count": 34,
   "metadata": {},
   "outputs": [
    {
     "output_type": "execute_result",
     "data": {
      "text/plain": "      Unnamed: 0  MINERAL_DEPOSIT_NO DEPOSIT_COMMODITY_CODES  \\\n1379        1379               10527                       U   \n2901        2901                8591                    SDST   \n287          287                3759                      Fe   \n53            53                 170                    OPAL   \n2298        2298                7151                    JADE   \n\n     MAJOR_COMMODITY_CODE MINDEP_CLASS_CODE STATUS_TYPE_VALUE  \\\n1379                    U        OCCURRENCE        Not worked   \n2901                 NONE        OCCURRENCE         Abandoned   \n287                    Fe        OCCURRENCE        Not worked   \n53                   NONE        OCCURRENCE          Seasonal   \n2298                 NONE        OCCURRENCE        Not worked   \n\n       SIZE_TYPE_VALUE ORE_LITHOLOGY_CODE   LONGITUDE   LATITUDE  label  \\\n1379  Low Significance               GRVL  132.789285 -31.452419      7   \n2901  Low Significance               SDST  138.462213 -33.612037      0   \n287   Low Significance               QMTU  135.330050 -29.469041      6   \n53    Low Significance               OPAL  133.246793 -27.298349      0   \n2298  Low Significance               MTHH  136.932193 -33.483123      0   \n\n                                                  paths  \n1379  data/stacked_images/LC08_L1TP_102082_20191204_...  \n2901  data/stacked_images/LC08_L1TP_098083_20200125_...  \n287   data/stacked_images/LC08_L1TP_100081_20200107_...  \n53    data/stacked_images/LC08_L1TP_102079_20191204_...  \n2298  data/stacked_images/LC08_L1TP_098083_20200125_...  ",
      "text/html": "<div>\n<style scoped>\n    .dataframe tbody tr th:only-of-type {\n        vertical-align: middle;\n    }\n\n    .dataframe tbody tr th {\n        vertical-align: top;\n    }\n\n    .dataframe thead th {\n        text-align: right;\n    }\n</style>\n<table border=\"1\" class=\"dataframe\">\n  <thead>\n    <tr style=\"text-align: right;\">\n      <th></th>\n      <th>Unnamed: 0</th>\n      <th>MINERAL_DEPOSIT_NO</th>\n      <th>DEPOSIT_COMMODITY_CODES</th>\n      <th>MAJOR_COMMODITY_CODE</th>\n      <th>MINDEP_CLASS_CODE</th>\n      <th>STATUS_TYPE_VALUE</th>\n      <th>SIZE_TYPE_VALUE</th>\n      <th>ORE_LITHOLOGY_CODE</th>\n      <th>LONGITUDE</th>\n      <th>LATITUDE</th>\n      <th>label</th>\n      <th>paths</th>\n    </tr>\n  </thead>\n  <tbody>\n    <tr>\n      <th>1379</th>\n      <td>1379</td>\n      <td>10527</td>\n      <td>U</td>\n      <td>U</td>\n      <td>OCCURRENCE</td>\n      <td>Not worked</td>\n      <td>Low Significance</td>\n      <td>GRVL</td>\n      <td>132.789285</td>\n      <td>-31.452419</td>\n      <td>7</td>\n      <td>data/stacked_images/LC08_L1TP_102082_20191204_...</td>\n    </tr>\n    <tr>\n      <th>2901</th>\n      <td>2901</td>\n      <td>8591</td>\n      <td>SDST</td>\n      <td>NONE</td>\n      <td>OCCURRENCE</td>\n      <td>Abandoned</td>\n      <td>Low Significance</td>\n      <td>SDST</td>\n      <td>138.462213</td>\n      <td>-33.612037</td>\n      <td>0</td>\n      <td>data/stacked_images/LC08_L1TP_098083_20200125_...</td>\n    </tr>\n    <tr>\n      <th>287</th>\n      <td>287</td>\n      <td>3759</td>\n      <td>Fe</td>\n      <td>Fe</td>\n      <td>OCCURRENCE</td>\n      <td>Not worked</td>\n      <td>Low Significance</td>\n      <td>QMTU</td>\n      <td>135.330050</td>\n      <td>-29.469041</td>\n      <td>6</td>\n      <td>data/stacked_images/LC08_L1TP_100081_20200107_...</td>\n    </tr>\n    <tr>\n      <th>53</th>\n      <td>53</td>\n      <td>170</td>\n      <td>OPAL</td>\n      <td>NONE</td>\n      <td>OCCURRENCE</td>\n      <td>Seasonal</td>\n      <td>Low Significance</td>\n      <td>OPAL</td>\n      <td>133.246793</td>\n      <td>-27.298349</td>\n      <td>0</td>\n      <td>data/stacked_images/LC08_L1TP_102079_20191204_...</td>\n    </tr>\n    <tr>\n      <th>2298</th>\n      <td>2298</td>\n      <td>7151</td>\n      <td>JADE</td>\n      <td>NONE</td>\n      <td>OCCURRENCE</td>\n      <td>Not worked</td>\n      <td>Low Significance</td>\n      <td>MTHH</td>\n      <td>136.932193</td>\n      <td>-33.483123</td>\n      <td>0</td>\n      <td>data/stacked_images/LC08_L1TP_098083_20200125_...</td>\n    </tr>\n  </tbody>\n</table>\n</div>"
     },
     "metadata": {},
     "execution_count": 34
    }
   ],
   "source": [
    "outputdf = outputdf.sample(frac=1)\n",
    "outputdf.head()"
   ]
  },
  {
   "cell_type": "code",
   "execution_count": 35,
   "metadata": {},
   "outputs": [],
   "source": [
    "\n",
    "outputdf.to_csv(\"miningSites/balanced_labels.csv\", index=False)"
   ]
  },
  {
   "cell_type": "code",
   "execution_count": 2,
   "metadata": {
    "tags": []
   },
   "outputs": [],
   "source": [
    "datadir = \"data/stacked_images\"\n",
    "labeldir = \"siteData/allData/\"\n",
    "checker = LocationChecker(datadir, size=(9, 9), rigorous=False)\n",
    "trainLandsat8Data = FDSSCDataset(datadir, labeldir+\"train.csv\", lochecker=checker, transform=[RandomRotation()])\n",
    "valLandsat8Data = FDSSCDataset(datadir, labeldir+\"val.csv\", lochecker=checker)\n",
    "testLandsat8Data = FDSSCDataset(datadir, labeldir+\"test.csv\", lochecker=checker)\n",
    "trainLoader = DataLoader(trainLandsat8Data, batch_size=8, shuffle=True, num_workers=4)\n",
    "valLoader = DataLoader(valLandsat8Data, batch_size=16, num_workers=1)\n",
    "testLoader = DataLoader(testLandsat8Data, batch_size=16, num_workers=1)\n",
    "#id2idx = utils.get_id2idx(pd.read_csv(csv), \"MAJOR_COMMODITY_CODE\")\n",
    "id2idx = pickle.load(open(\"data/id2idxMasked.p\", \"rb\"))\n",
    "idx2id = {value: key for key, value in id2idx.items()}"
   ]
  },
  {
   "cell_type": "code",
   "execution_count": 3,
   "metadata": {},
   "outputs": [
    {
     "output_type": "execute_result",
     "data": {
      "text/plain": "FerDSSC_model(\n  (input_spec_conv): Conv3d(1, 24, kernel_size=(1, 1, 7), stride=(1, 1, 1), padding=(0, 0, 3))\n  (spectral_conv1): Spectral_conv(\n    (bn_prelu): Bn_prelu(\n      (bn): BatchNorm3d(24, eps=1e-05, momentum=0.1, affine=True, track_running_stats=True)\n      (prelu): PReLU(num_parameters=1)\n    )\n    (conv3d): Conv3d(24, 12, kernel_size=(1, 1, 7), stride=(1, 1, 1), padding=(0, 0, 3))\n  )\n  (spectral_conv2): Spectral_conv(\n    (bn_prelu): Bn_prelu(\n      (bn): BatchNorm3d(36, eps=1e-05, momentum=0.1, affine=True, track_running_stats=True)\n      (prelu): PReLU(num_parameters=1)\n    )\n    (conv3d): Conv3d(36, 12, kernel_size=(1, 1, 7), stride=(1, 1, 1), padding=(0, 0, 3))\n  )\n  (spectral_conv3): Spectral_conv(\n    (bn_prelu): Bn_prelu(\n      (bn): BatchNorm3d(48, eps=1e-05, momentum=0.1, affine=True, track_running_stats=True)\n      (prelu): PReLU(num_parameters=1)\n    )\n    (conv3d): Conv3d(48, 12, kernel_size=(1, 1, 7), stride=(1, 1, 1), padding=(0, 0, 3))\n  )\n  (bn_prelu1): Bn_prelu(\n    (bn): BatchNorm3d(60, eps=1e-05, momentum=0.1, affine=True, track_running_stats=True)\n    (prelu): PReLU(num_parameters=1)\n  )\n  (reshape_conv): Conv3d(60, 100, kernel_size=(1, 1, 11), stride=(1, 1, 1))\n  (bn_prelu2): Bn_prelu(\n    (bn): BatchNorm3d(100, eps=1e-05, momentum=0.1, affine=True, track_running_stats=True)\n    (prelu): PReLU(num_parameters=1)\n  )\n  (input_spat_conv): Conv3d(1, 24, kernel_size=(3, 3, 100), stride=(1, 1, 1))\n  (spatial_conv1): Spatial_conv(\n    (bn_prelu): Bn_prelu(\n      (bn): BatchNorm3d(24, eps=1e-05, momentum=0.1, affine=True, track_running_stats=True)\n      (prelu): PReLU(num_parameters=1)\n    )\n    (conv3d): Conv3d(24, 12, kernel_size=(3, 3, 1), stride=(1, 1, 1), padding=(1, 1, 0))\n  )\n  (spatial_conv2): Spatial_conv(\n    (bn_prelu): Bn_prelu(\n      (bn): BatchNorm3d(36, eps=1e-05, momentum=0.1, affine=True, track_running_stats=True)\n      (prelu): PReLU(num_parameters=1)\n    )\n    (conv3d): Conv3d(36, 12, kernel_size=(3, 3, 1), stride=(1, 1, 1), padding=(1, 1, 0))\n  )\n  (spatial_conv3): Spatial_conv(\n    (bn_prelu): Bn_prelu(\n      (bn): BatchNorm3d(48, eps=1e-05, momentum=0.1, affine=True, track_running_stats=True)\n      (prelu): PReLU(num_parameters=1)\n    )\n    (conv3d): Conv3d(48, 12, kernel_size=(3, 3, 1), stride=(1, 1, 1), padding=(1, 1, 0))\n  )\n  (bn_prelu3): Bn_prelu(\n    (bn): BatchNorm3d(60, eps=1e-05, momentum=0.1, affine=True, track_running_stats=True)\n    (prelu): PReLU(num_parameters=1)\n  )\n  (pool1): AvgPool3d(kernel_size=(7, 7, 1), stride=(1, 1, 1), padding=0)\n  (drop1): Dropout(p=0.5, inplace=False)\n  (fc1): Linear(in_features=60, out_features=9, bias=True)\n  (softm): Softmax(dim=None)\n)"
     },
     "metadata": {},
     "execution_count": 3
    }
   ],
   "source": [
    "# setting training device\n",
    "device = torch.device(\"cuda:0\" if torch.cuda.is_available() else \"cpu\")\n",
    "\n",
    "# initializing model and loss and optim\n",
    "model = models.FerDSSC_model((1, 9, 9, 11), len(list(id2idx.keys())))\n",
    "loss_fn = torch.nn.CrossEntropyLoss()\n",
    "optimizer = torch.optim.RMSprop(model.parameters(), lr=0.0003)\n",
    "\n",
    "# applying weight initialization\n",
    "model.apply(utils.init_weights)\n",
    "\n",
    "#putting model on training device\n",
    "model.to(device)\n"
   ]
  },
  {
   "cell_type": "code",
   "execution_count": null,
   "metadata": {},
   "outputs": [],
   "source": [
    "print(trainLandsat8Data[0])"
   ]
  },
  {
   "cell_type": "code",
   "execution_count": 4,
   "metadata": {
    "tags": []
   },
   "outputs": [
    {
     "output_type": "stream",
     "name": "stdout",
     "text": "\n======== Epoch 1 / 5 ========\nTraining...\n  Batch   311  of    312.    Loss: 2.85     Elapsed: 0:01:19.\n  Average training loss: 1.81\n  Training epoch took: 0:01:19\nRunning Validation...\n  Accuracy: 58.17\n  Validation took: 0:00:25\n\n======== Epoch 2 / 5 ========\nTraining...\n  Batch   311  of    312.    Loss: 2.37     Elapsed: 0:01:18.\n  Average training loss: 1.79\n  Training epoch took: 0:01:19\nRunning Validation...\n  Accuracy: 58.79\n  Validation took: 0:00:24\n\n======== Epoch 3 / 5 ========\nTraining...\n  Batch   311  of    312.    Loss: 1.37     Elapsed: 0:01:12.\n  Average training loss: 1.79\n  Training epoch took: 0:01:12\nRunning Validation...\n  Accuracy: 58.79\n  Validation took: 0:00:24\n\n======== Epoch 4 / 5 ========\nTraining...\n  Batch   311  of    312.    Loss: 1.37     Elapsed: 0:01:21.\n  Average training loss: 1.79\n  Training epoch took: 0:01:22\nRunning Validation...\n  Accuracy: 58.79\n  Validation took: 0:00:27\n\n======== Epoch 5 / 5 ========\nTraining...\n  Batch   311  of    312.    Loss: 1.37     Elapsed: 0:01:16.\n  Average training loss: 1.79\n  Training epoch took: 0:01:16\nRunning Validation...\n  Accuracy: 58.79\n  Validation took: 0:00:24\n"
    }
   ],
   "source": [
    "epochs = 5\n",
    "frequency = 5\n",
    "# setting up callbacks\n",
    "checkpointFolder = \"TrainingCheckpoints/3rdRun/\"\n",
    "cbs = [utils.validate_callback(model, valLoader, loss_fn, device),\n",
    "        utils.saving_checkpoints_callback(checkpointFolder, model, optimizer, frequency, epochs)]\n",
    "\n",
    "trainingLosses, CBouts = utils.train(model, trainLoader, epochs=epochs, loss_fn=loss_fn,\n",
    "                            optimizer=optimizer, callbacks=cbs)"
   ]
  },
  {
   "cell_type": "code",
   "execution_count": 5,
   "metadata": {
    "tags": []
   },
   "outputs": [
    {
     "output_type": "error",
     "ename": "NameError",
     "evalue": "name 'CBouts' is not defined",
     "traceback": [
      "\u001b[1;31m---------------------------------------------------------------------------\u001b[0m",
      "\u001b[1;31mNameError\u001b[0m                                 Traceback (most recent call last)",
      "\u001b[1;32m<ipython-input-5-72ad8e2df975>\u001b[0m in \u001b[0;36m<module>\u001b[1;34m\u001b[0m\n\u001b[1;32m----> 1\u001b[1;33m \u001b[0mvalLosses\u001b[0m \u001b[1;33m=\u001b[0m \u001b[1;33m[\u001b[0m\u001b[0meach\u001b[0m\u001b[1;33m.\u001b[0m\u001b[0mitem\u001b[0m\u001b[1;33m(\u001b[0m\u001b[1;33m)\u001b[0m \u001b[1;32mfor\u001b[0m \u001b[0meach\u001b[0m \u001b[1;32min\u001b[0m \u001b[0mlist\u001b[0m\u001b[1;33m(\u001b[0m\u001b[0mzip\u001b[0m\u001b[1;33m(\u001b[0m\u001b[1;33m*\u001b[0m\u001b[0mCBouts\u001b[0m\u001b[1;33m)\u001b[0m\u001b[1;33m)\u001b[0m\u001b[1;33m[\u001b[0m\u001b[1;36m0\u001b[0m\u001b[1;33m]\u001b[0m\u001b[1;33m]\u001b[0m\u001b[1;33m\u001b[0m\u001b[1;33m\u001b[0m\u001b[0m\n\u001b[0m\u001b[0;32m      2\u001b[0m \u001b[0mprint\u001b[0m\u001b[1;33m(\u001b[0m\u001b[0mvalLosses\u001b[0m\u001b[1;33m)\u001b[0m\u001b[1;33m\u001b[0m\u001b[1;33m\u001b[0m\u001b[0m\n\u001b[0;32m      3\u001b[0m \u001b[0mprint\u001b[0m\u001b[1;33m(\u001b[0m\u001b[0mtrainingLosses\u001b[0m\u001b[1;33m)\u001b[0m\u001b[1;33m\u001b[0m\u001b[1;33m\u001b[0m\u001b[0m\n",
      "\u001b[1;31mNameError\u001b[0m: name 'CBouts' is not defined"
     ]
    }
   ],
   "source": [
    "valLosses = [each.item() for each in list(zip(*CBouts))[0]]\n",
    "print(valLosses)\n",
    "print(trainingLosses)"
   ]
  },
  {
   "cell_type": "code",
   "execution_count": 6,
   "metadata": {},
   "outputs": [],
   "source": [
    "import matplotlib.pyplot as plt\n",
    "%matplotlib inline\n",
    "import seaborn as sns\n",
    "def plot_loss_vals(loss_vals, lv2, title=\"Training loss\", start_idx=1):\n",
    "    sns.set(style='darkgrid')\n",
    "    sns.set(font_scale=1.5)\n",
    "    plt.rcParams[\"figure.figsize\"] = (12,6)\n",
    "    plt.plot([i + start_idx for i in range(len(loss_vals[start_idx - 1:]))], loss_vals[start_idx - 1:], 'b-o', label=\"Training Loss (softmax)\")\n",
    "    plt.plot([i + start_idx for i in range(len(lv2[start_idx - 1:]))], lv2[start_idx - 1:], 'r-o', label=\"Val Loss (softmax)\")\n",
    "    plt.title(title)\n",
    "    plt.xlabel(\"Epoch\")\n",
    "    plt.ylabel(\"Loss\")\n",
    "    plt.legend()\n",
    "    plt.show()\n",
    "plot_loss_vals(trainingLosses, valLosses, title=\"Training and Val Loss, FerDSSC, with 100 latent space\", start_idx=2)"
   ]
  },
  {
   "cell_type": "code",
   "execution_count": 8,
   "metadata": {},
   "outputs": [
    {
     "output_type": "error",
     "ename": "KeyError",
     "evalue": "0",
     "traceback": [
      "\u001b[1;31m---------------------------------------------------------------------------\u001b[0m",
      "\u001b[1;31mKeyError\u001b[0m                                  Traceback (most recent call last)",
      "\u001b[1;32m<ipython-input-8-dbd48701d7a3>\u001b[0m in \u001b[0;36m<module>\u001b[1;34m\u001b[0m\n\u001b[0;32m     17\u001b[0m \u001b[1;32mfor\u001b[0m \u001b[0mi\u001b[0m \u001b[1;32min\u001b[0m \u001b[0mrange\u001b[0m\u001b[1;33m(\u001b[0m\u001b[1;36m10\u001b[0m\u001b[1;33m)\u001b[0m\u001b[1;33m:\u001b[0m\u001b[1;33m\u001b[0m\u001b[1;33m\u001b[0m\u001b[0m\n\u001b[0;32m     18\u001b[0m     print('Accuracy of %5s : %2d %%' % (\n\u001b[1;32m---> 19\u001b[1;33m         id2idx[i], 100 * class_correct[i] / class_total[i]))\n\u001b[0m",
      "\u001b[1;31mKeyError\u001b[0m: 0"
     ]
    }
   ],
   "source": [
    "# evaluate test accuracy\n",
    "\n",
    "class_correct = list(0. for i in range(len(id2idx)))\n",
    "class_total = list(0. for i in range(len(id2idx)))\n",
    "with torch.no_grad():\n",
    "    for data in testLoader:\n",
    "        inputs, labels = data[\"image\"].to(device), data[\"label\"].to(device)\n",
    "        outputs = model(inputs)\n",
    "        _, predicted = torch.max(outputs, 1)\n",
    "        c = (predicted == labels).squeeze()\n",
    "        for i in range(labels.size(0)):\n",
    "            label = labels[i]\n",
    "            class_correct[label] += c[i].item()\n",
    "            class_total[label] += 1\n"
   ]
  },
  {
   "cell_type": "code",
   "execution_count": null,
   "metadata": {},
   "outputs": [],
   "source": []
  }
 ],
 "metadata": {
  "language_info": {
   "codemirror_mode": {
    "name": "ipython",
    "version": 3
   },
   "file_extension": ".py",
   "mimetype": "text/x-python",
   "name": "python",
   "nbconvert_exporter": "python",
   "pygments_lexer": "ipython3",
   "version": "3.8.2-final"
  },
  "orig_nbformat": 2,
  "kernelspec": {
   "name": "python38264bitexploreenvvenv87e07fb46bde47dfae1296eaba249c39",
   "display_name": "Python 3.8.2 64-bit ('exploreEnv': venv)"
  }
 },
 "nbformat": 4,
 "nbformat_minor": 2
}